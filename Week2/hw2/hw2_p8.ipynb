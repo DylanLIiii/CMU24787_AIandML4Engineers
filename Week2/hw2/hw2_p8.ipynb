{
 "cells": [
  {
   "attachments": {},
   "cell_type": "markdown",
   "metadata": {},
   "source": [
    "# Homework 2 Programming Problem 8 (30 points)\n",
    "\n",
    "## Problem Description\n",
    "\n",
    "In this problem you will use linear least squares to fit a linear function to a 3D temperature field, with x,y,z locations and an associated temperature T.\n",
    "\n",
    "Fill out the notebook as instructed, making the requested plots and printing necessary values. \n",
    "\n",
    "*You are welcome to use any of the code provided in the lecture activities.*\n",
    "\n",
    "#### Summary of deliverables:\n",
    "\n",
    "Results:\n",
    "- Predicted temperature `T(5,5,5)` using a hand-coded LLS squares model with a linear function\n",
    "- Direction of travel from `(5,5,5)` to experience the greatest decrease in temperature\n",
    "\n",
    "Discussion:\n",
    "- Reasoning for how we can use our fitted function to determine the direction of greatest decrease in temperature\n",
    "\n",
    "#### Imports and Utility Functions:"
   ]
  },
  {
   "cell_type": "code",
   "execution_count": 5,
   "metadata": {},
   "outputs": [],
   "source": [
    "import numpy as np\n",
    "import matplotlib.pyplot as plt"
   ]
  },
  {
   "attachments": {},
   "cell_type": "markdown",
   "metadata": {},
   "source": [
    "## Load the data\n",
    "\n",
    "The data is contained in `tempfield.npy` and can be loaded with `np.load(tempfield.npy)`. The first three columns correspond to the `x`, `y`, and `z` locations of the data points, and the 4th column corresponds to the temperature `T` at the respective point. Store the data as you see fit."
   ]
  },
  {
   "cell_type": "code",
   "execution_count": 18,
   "metadata": {},
   "outputs": [],
   "source": [
    "# YORU CODE GOES HERE\n",
    "data = np.load(\"tempfield.npy\")\n",
    "\n",
    "x = data[:,0]\n",
    "y = data[:,1]\n",
    "z = data[:,2]\n",
    "target = data[:,3]"
   ]
  },
  {
   "attachments": {},
   "cell_type": "markdown",
   "metadata": {},
   "source": [
    "## LLS Regression in 3D\n",
    "\n",
    "Now fit a linear function to the data using the closed for of LLS regression. Use your fitted function to report the predicted temperature at `x = 5, y = 5, z = 5`. You are free to add regularization to your model, but this is not required and will not be graded."
   ]
  },
  {
   "cell_type": "code",
   "execution_count": 19,
   "metadata": {},
   "outputs": [],
   "source": [
    "X = np.concatenate([x.reshape(-1,1),y.reshape(-1,1),z.reshape(-1,1), np.ones_like(x).reshape(-1,1)], axis=1)\n",
    "w = np.linalg.inv(X.T @ X) @ X.T @ target.reshape(-1,1)"
   ]
  },
  {
   "cell_type": "code",
   "execution_count": 20,
   "metadata": {},
   "outputs": [
    {
     "name": "stdout",
     "output_type": "stream",
     "text": [
      "Temperature at x,y,z = 5,5,5 is  [21.38907338]\n"
     ]
    }
   ],
   "source": [
    "# Temperature at x,y,z = 5,5,5 is \n",
    "print(\"Temperature at x,y,z = 5,5,5 is \", w[0]*5 + w[1]*5 + w[2]*5 + w[3])"
   ]
  },
  {
   "attachments": {},
   "cell_type": "markdown",
   "metadata": {},
   "source": [
    "## Gradient Intuition\n",
    "\n",
    "Using the function you fit in the previous part, in which direction should one move from the point `p = (5,5,5)` to experience the largest decrease in temperature in the immediate neighborhood of the point? Report the specific direction, along with your reasoning."
   ]
  },
  {
   "cell_type": "code",
   "execution_count": 36,
   "metadata": {},
   "outputs": [
    {
     "name": "stdout",
     "output_type": "stream",
     "text": [
      "The gradient at x,y,z = 5,5,5 is  [-0.13421269] [0.11741862] [0.72677374]\n"
     ]
    }
   ],
   "source": [
    "# The gradient at x,y,z = 5,5,5 is \n",
    "# The final function can be tareget = w[0]x + w[1]y + w[2]z + w[3] * bias\n",
    "# The gradiant is \n",
    "print(\"The inverse gradient at x,y,z = 5,5,5 is \", w[0], w[1], w[2])\n"
   ]
  },
  {
   "attachments": {},
   "cell_type": "markdown",
   "metadata": {},
   "source": [
    "As above mention, the graient at (5,5,5) is [-0.13421269, 0.11741862, 0.72677374], so the direction of greatest decrease in temperature is [0.13421269, -0.11741862, -0.72677374]. The reason is that the gradient points in the direction of steepest ascent, and so the negative of the gradient points in the direction of steepest descent"
   ]
  }
 ],
 "metadata": {
  "kernelspec": {
   "display_name": "base",
   "language": "python",
   "name": "python3"
  },
  "language_info": {
   "codemirror_mode": {
    "name": "ipython",
    "version": 3
   },
   "file_extension": ".py",
   "mimetype": "text/x-python",
   "name": "python",
   "nbconvert_exporter": "python",
   "pygments_lexer": "ipython3",
   "version": "3.10.12"
  },
  "orig_nbformat": 4
 },
 "nbformat": 4,
 "nbformat_minor": 2
}
